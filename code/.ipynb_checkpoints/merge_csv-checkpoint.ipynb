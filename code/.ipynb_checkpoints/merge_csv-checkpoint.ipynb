{
 "cells": [
  {
   "cell_type": "code",
   "execution_count": 5,
   "id": "d5b9aad5",
   "metadata": {},
   "outputs": [],
   "source": [
    "import numpy as np\n",
    "import os\n",
    "import pandas as pd\n",
    "import csv\n",
    "\n",
    "# Path = '../0806_han_data/'\n",
    "\n",
    "dataCSV=[\n",
    "    \"../0816_han_data/newAfterFft_fft_arctan_0816_Han_data_foot_38.csv\",\n",
    "    \"../0816_han_data/newAfterFft_fft_arctan_0816_Han_data_foot_40.csv\",\n",
    "    \"../0816_han_data/newAfterFft_fft_arctan_0816_Han_data_foot_41.csv\",\n",
    "    \"../0816_han_data/newAfterFft_fft_arctan_0816_Han_data_foot_43.csv\",\n",
    "    \"../0816_han_data/newAfterFft_fft_arctan_0813_Han_data_foot_35.csv\",\n",
    "    \"../0816_han_data/newAfterFft_fft_arctan_0813_Han_data_foot_37.csv\",\n",
    "    \"../0816_han_data/newAfterFft_fft_arctan_0813_Han_data_foot_39.csv\",\n",
    "    \"../0816_han_data/newAfterFft_fft_arctan_0813_Han_data_foot_42.csv\",\n",
    "    \"../0816_han_data/newAfterFft_fft_arctan_0813_Han_data_foot_44.csv\",\n",
    "]\n",
    "\n",
    "# dataCSV\n",
    "length = len(dataCSV)\n",
    "for i in range(0,length,1):\n",
    "    if i == 0:\n",
    "        data = np.array(pd.read_csv(dataCSV[i]))\n",
    "        dataseries = data\n",
    "    else:\n",
    "        data = np.array(pd.read_csv(dataCSV[i]))\n",
    "        dataseries = np.append(dataseries,data,axis = 0)\n",
    "\n",
    "data = dataseries\n",
    "pandasData={\"Xg\":data[:,1],\"Yg\":data[:,2],\"Zg\":data[:,3],\"Xm\":data[:,4],\"Ym\":data[:,5],\"Zm\":data[:,6],\"Xa\":data[:,7],\"Ya\":data[:,8],\"Za\":data[:,9],\"Xq\":data[:,10],\"Yq\":data[:,11],\"Zq\":data[:,12],\"Direction\":data[:,13],\"SensorTime\":data[:,14],\"Time\":data[:,15],\"Label\":data[:,16],\"Fft_gx\":data[:,17],\"Fft_gy\":data[:,18],\"Fft_gz\":data[:,19],\"Fft_ax\":data[:,20],\"Fft_ay\":data[:,21],\"Fft_az\":data[:,22]\n",
    ",\"Xgd\":data[:,23],\"Ygd\":data[:,24],\"Zgd\":data[:,25],\"Xad\":data[:,26],\"Yad\":data[:,27],\"Zad\":data[:,28],\"Xgdd\":data[:,29],\"Ygdd\":data[:,30],\"Zgdd\":data[:,31],\"Xadd\":data[:,32],\"Yadd\":data[:,33],\"Zadd\":data[:,34]\n",
    "}\n",
    "\n",
    "df = pd.DataFrame(pandasData)\n",
    "df.to_csv(\"../0816_han_data/merge_0813_0816\"+'.csv')\n",
    "    "
   ]
  },
  {
   "cell_type": "code",
   "execution_count": null,
   "id": "294b79b0",
   "metadata": {},
   "outputs": [],
   "source": []
  }
 ],
 "metadata": {
  "kernelspec": {
   "display_name": "Python 3 (ipykernel)",
   "language": "python",
   "name": "python3"
  },
  "language_info": {
   "codemirror_mode": {
    "name": "ipython",
    "version": 3
   },
   "file_extension": ".py",
   "mimetype": "text/x-python",
   "name": "python",
   "nbconvert_exporter": "python",
   "pygments_lexer": "ipython3",
   "version": "3.9.12"
  }
 },
 "nbformat": 4,
 "nbformat_minor": 5
}
