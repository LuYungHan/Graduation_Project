{
 "cells": [
  {
   "cell_type": "code",
   "execution_count": 13,
   "id": "9b56ccf1",
   "metadata": {},
   "outputs": [
    {
     "name": "stdout",
     "output_type": "stream",
     "text": [
      "[[1 4 4]\n",
      " [2 5 5]\n",
      " [3 6 6]]\n"
     ]
    }
   ],
   "source": [
    "import numpy as np\n",
    "import math\n",
    "a1 = [[1,2,3]]\n",
    "a2 = [[4,5,6]]\n",
    "a1= np.array(a1).T\n",
    "a2= np.array(a2).T\n",
    "data = np.append(a1,a2,axis = 1)\n",
    "data = np.append(data,a2,axis = 1)\n",
    "print(data)"
   ]
  },
  {
   "cell_type": "code",
   "execution_count": 8,
   "id": "b2bc15bf",
   "metadata": {},
   "outputs": [
    {
     "name": "stdout",
     "output_type": "stream",
     "text": [
      "[[ 1  4]\n",
      " [ 7 10]]\n"
     ]
    }
   ],
   "source": [
    "import numpy as np\n",
    "import math\n",
    "a1 = [[1,2,3],[7,8,9]]\n",
    "a1 = np.array(a1)\n",
    "a2 = [[4,5,6],[10,11,12]]\n",
    "a2 = np.array(a2)\n",
    "# print(a1[:,0])\n",
    "a1= np.array([a1[:,0]]).T\n",
    "a2= np.array([a2[:,0]]).T\n",
    "data = np.append(a1,a2,axis = 1)\n",
    "# data = np.append(data,a2,axis = 1)\n",
    "print(data)"
   ]
  },
  {
   "cell_type": "code",
   "execution_count": 20,
   "id": "6ad7bf1f",
   "metadata": {},
   "outputs": [
    {
     "data": {
      "text/html": [
       "<div>\n",
       "<style scoped>\n",
       "    .dataframe tbody tr th:only-of-type {\n",
       "        vertical-align: middle;\n",
       "    }\n",
       "\n",
       "    .dataframe tbody tr th {\n",
       "        vertical-align: top;\n",
       "    }\n",
       "\n",
       "    .dataframe thead th {\n",
       "        text-align: right;\n",
       "    }\n",
       "</style>\n",
       "<table border=\"1\" class=\"dataframe\">\n",
       "  <thead>\n",
       "    <tr style=\"text-align: right;\">\n",
       "      <th></th>\n",
       "      <th>ZZZ</th>\n",
       "    </tr>\n",
       "  </thead>\n",
       "  <tbody>\n",
       "    <tr>\n",
       "      <th>0</th>\n",
       "      <td>1.000000</td>\n",
       "    </tr>\n",
       "    <tr>\n",
       "      <th>1</th>\n",
       "      <td>2.617281</td>\n",
       "    </tr>\n",
       "    <tr>\n",
       "      <th>2</th>\n",
       "      <td>2.532655</td>\n",
       "    </tr>\n",
       "    <tr>\n",
       "      <th>3</th>\n",
       "      <td>0.361685</td>\n",
       "    </tr>\n",
       "    <tr>\n",
       "      <th>4</th>\n",
       "      <td>-0.278278</td>\n",
       "    </tr>\n",
       "    <tr>\n",
       "      <th>5</th>\n",
       "      <td>-0.353545</td>\n",
       "    </tr>\n",
       "    <tr>\n",
       "      <th>6</th>\n",
       "      <td>2.789207</td>\n",
       "    </tr>\n",
       "  </tbody>\n",
       "</table>\n",
       "</div>"
      ],
      "text/plain": [
       "        ZZZ\n",
       "0  1.000000\n",
       "1  2.617281\n",
       "2  2.532655\n",
       "3  0.361685\n",
       "4 -0.278278\n",
       "5 -0.353545\n",
       "6  2.789207"
      ]
     },
     "execution_count": 20,
     "metadata": {},
     "output_type": "execute_result"
    }
   ],
   "source": [
    "import serial\n",
    "import csv\n",
    "import time\n",
    "import pandas as pd\n",
    "from datetime import datetime, timedelta\n",
    "from time import sleep\n",
    "import numpy as np\n",
    "import matplotlib.pyplot as plt\n",
    "from sklearn.model_selection import train_test_split\n",
    "from sklearn.svm import SVC\n",
    "from sklearn.metrics import classification_report\n",
    "from sklearn.tree import DecisionTreeClassifier\n",
    "from sklearn.ensemble import RandomForestClassifier\n",
    "import math\n",
    "from scipy import signal\n",
    "from PIL import Image\n",
    "\n",
    "data = './IOBB/All_Data/腳_fft.csv'\n",
    "\n",
    "data = np.array(pd.read_csv(data))\n",
    "pandasData={\"Xg\":data[:,1],\"Yg\":data[:,2],\"Zg\":data[:,3],\"Xm\":data[:,4],\"Ym\":data[:,5],\"Zm\":data[:,6]}\n",
    "pandasData1 = {\"ZZZ\":data[1,:]}\n",
    "# df = pd.DataFrame(pandasData)\n",
    "df1 = pd.DataFrame(pandasData1)\n",
    "df1"
   ]
  },
  {
   "cell_type": "code",
   "execution_count": null,
   "id": "181ac14d",
   "metadata": {},
   "outputs": [],
   "source": []
  }
 ],
 "metadata": {
  "kernelspec": {
   "display_name": "Python 3 (ipykernel)",
   "language": "python",
   "name": "python3"
  },
  "language_info": {
   "codemirror_mode": {
    "name": "ipython",
    "version": 3
   },
   "file_extension": ".py",
   "mimetype": "text/x-python",
   "name": "python",
   "nbconvert_exporter": "python",
   "pygments_lexer": "ipython3",
   "version": "3.9.12"
  }
 },
 "nbformat": 4,
 "nbformat_minor": 5
}
