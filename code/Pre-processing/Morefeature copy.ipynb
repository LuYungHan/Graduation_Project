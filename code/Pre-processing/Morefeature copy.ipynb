{
 "cells": [
  {
   "cell_type": "markdown",
   "metadata": {},
   "source": [
    "Set Data path"
   ]
  },
  {
   "cell_type": "code",
   "execution_count": 105,
   "metadata": {},
   "outputs": [],
   "source": [
    "dataCSV=[\n",
    "    # \"../All_Data/0713/195800/腳2022-07-13 195800.csv\",\n",
    "    # \"腳2022-08-06 164400remake.csv\",\n",
    "    # \"../All_Data/0713/200400/手2022-07-13 200400.csv\",\n",
    "    # \"../All_Data/0713/195800/腳2022-07-13 195800.csv\",\n",
    "    # \"../All_Data/0713/200400/腳2022-07-13 200400.csv\"\n",
    "    \"AfterFft_fft_arctan_40_Foot - 複製.csv\"\n",
    "\n",
    "  \n",
    "]"
   ]
  },
  {
   "cell_type": "markdown",
   "metadata": {},
   "source": [
    "Set file Name"
   ]
  },
  {
   "cell_type": "code",
   "execution_count": 106,
   "metadata": {},
   "outputs": [
    {
     "name": "stdout",
     "output_type": "stream",
     "text": [
      "['AfterFft_fft_arctan_40_Foot - 複製']\n"
     ]
    }
   ],
   "source": [
    "fileName=[]\n",
    "for i in range(len(dataCSV)):\n",
    "    newFilename = dataCSV[i].split('/')\n",
    "    fileName.append(newFilename[len(newFilename)-1][0:len(newFilename[len(newFilename)-1])-4])\n",
    "    print(fileName)"
   ]
  },
  {
   "cell_type": "markdown",
   "metadata": {},
   "source": [
    "Smooth by d by difference window"
   ]
  },
  {
   "cell_type": "markdown",
   "metadata": {},
   "source": [
    "Plot and draw"
   ]
  },
  {
   "cell_type": "code",
   "execution_count": 107,
   "metadata": {},
   "outputs": [],
   "source": [
    "def draw(data,index):\n",
    "    titleDictionary=[\"hands\",\"foot\"]\n",
    "    fig, (ax1, ax2,ax3,ax4,ax5) = plt.subplots(5, 1, sharex = False, sharey = False, figsize = (40, 30))\n",
    "    ax1.set_title(\"foot \"+fileName[0][1:],fontsize = 30)\n",
    "    # ax2.set_title(fileName[index][1:]+\" \"+titleDictionary[index//(len(dataCSV)//2)],fontsize = 30)\n",
    "    # ax3.set_title(fileName[index][1:]+\" \"+titleDictionary[index//(len(dataCSV)//2)],fontsize = 30)\n",
    "\n",
    "\n",
    "    ax1.plot(data[:,15], data[: , 1], color = 'r', label = \"Xg\")\n",
    "    ax1.plot(data[:,15], data[: , 2], color = 'g', label = \"Yg\")\n",
    "    ax1.plot(data[:,15], data[: , 3], color = 'b', label = \"Zg\")\n",
    "    ax1.legend(loc = \"center left\", fontsize = 20, bbox_to_anchor = (1, 0.5))\n",
    "    plt.setp(ax1.get_xticklabels(), fontsize=20)\n",
    "    plt.setp(ax1.get_yticklabels(), fontsize=20)\n",
    "\n",
    "    ax2.plot(data[:,15], data[: , 4], color = 'r', label = \"Xgd\")\n",
    "    ax2.plot(data[:,15], data[: , 5], color = 'g', label = \"Ygd\")\n",
    "    ax2.plot(data[:,15], data[: , 6], color = 'b', label = \"Zgd\")\n",
    "    ax2.legend(loc = \"center left\", fontsize = 20, bbox_to_anchor = (1, 0.5))\n",
    "    plt.setp(ax2.get_xticklabels(), fontsize=20)\n",
    "    plt.setp(ax2.get_yticklabels(), fontsize=20)\n",
    "\n",
    "    list=[]\n",
    "    for i in range (len(data[:,16])):\n",
    "        if data[i,16] ==\"W\":\n",
    "            list.append(1)\n",
    "        else:\n",
    "            list.append(0)\n",
    "    ax3.plot(data[:,15], list, color = 'r', label = \"\")\n",
    "    ax3.legend(loc = \"center left\", fontsize = 20, bbox_to_anchor = (1, 0.5))\n",
    "    plt.setp(ax3.get_xticklabels(), fontsize=20)\n",
    "    plt.setp(ax3.get_yticklabels(), fontsize=20)\n",
    "\n",
    "\n",
    "    ax4.plot(data[:,15], data[: , 7], color = 'r', label = \"Xa\")\n",
    "    ax4.plot(data[:,15], data[: , 8], color = 'g', label = \"Ya\")\n",
    "    ax4.plot(data[:,15], data[: , 9], color = 'b', label = \"Za\")\n",
    "    ax4.legend(loc = \"center left\", fontsize = 20, bbox_to_anchor = (1, 0.5))\n",
    "    plt.setp(ax4.get_xticklabels(), fontsize=20)\n",
    "    plt.setp(ax4.get_yticklabels(), fontsize=20)\n",
    "\n",
    "    ax5.plot(data[:,15], data[: , 10], color = 'r', label = \"Xad\")\n",
    "    ax5.plot(data[:,15], data[: , 11], color = 'g', label = \"Yad\")\n",
    "    ax5.plot(data[:,15], data[: , 12], color = 'b', label = \"Zad\")\n",
    "    ax5.legend(loc = \"center left\", fontsize = 20, bbox_to_anchor = (1, 0.5))\n",
    "    plt.setp(ax5.get_xticklabels(), fontsize=20)\n",
    "    plt.setp(ax5.get_yticklabels(), fontsize=20)\n",
    "    \n",
    "    plt.savefig( path+'/'+ fileName[index]+'.pdf')\n",
    "    fig.show()\n",
    "    "
   ]
  },
  {
   "cell_type": "markdown",
   "metadata": {},
   "source": [
    "Make file"
   ]
  },
  {
   "cell_type": "code",
   "execution_count": 108,
   "metadata": {},
   "outputs": [],
   "source": [
    "import os\n",
    "def mkdir(path):\n",
    "    #判斷目錄是否存在\n",
    "    #存在：True\n",
    "    #不存在：False\n",
    "    folder = os.path.exists(path)\n",
    "\n",
    "    #判斷結果\n",
    "    if not folder:\n",
    "        #如果不存在，則建立新目錄\n",
    "        os.makedirs(path)\n",
    "        print('-----建立成功-----')\n",
    "\n",
    "    else:\n",
    "        #如果目錄已存在，則不建立，提示目錄已存在\n",
    "        print(path+'目錄已存在')"
   ]
  },
  {
   "cell_type": "code",
   "execution_count": 112,
   "metadata": {},
   "outputs": [
    {
     "name": "stdout",
     "output_type": "stream",
     "text": [
      "[0 0.0 0.01 -0.02 8.69 -108.94 -17.44 -9.16 -3.11 -0.03 -0.71 0.01 0.67\n",
      " 0.24 571106 5366 'W' 1.287070811 -1.871445791 2.775360453 2.785152443\n",
      " 2.813852768 1.920760617]\n",
      "0.0\n",
      "0.0\n"
     ]
    }
   ],
   "source": [
    "from unittest import result\n",
    "import serial\n",
    "import csv\n",
    "import time\n",
    "import pandas as pd\n",
    "import matplotlib.pyplot as plt\n",
    "import numpy as np\n",
    "from scipy.fftpack import fft, ifft\n",
    "import math\n",
    "line=[\"Xg\",\"Yg\",\"Zg\",\"Xm\",\"Ym\",\"Zm\",\"Xa\",\"Ya\",\"Za\",\"Xq\",\"Yq\",\"Zq\",\"direc\"]\n",
    "colorSet=['r','g','b','y']\n",
    "\n",
    "data = pd.read_csv(dataCSV[0])\n",
    "data = np.array(data)\n",
    "index=0\n",
    "\n",
    "\n",
    "# common_ratio=0\n",
    "# data = pd.read_csv(dataCSV[index])\n",
    "# data = np.array(data)\n",
    "# print(len(data[:,16]))\n",
    "# draw(data,index)\n",
    "\n",
    "\n",
    "# drawfft(data,index)\n",
    "\n",
    "'''it can run all'''\n",
    "\n",
    "# for index in range(len(dataCSV)):\n",
    "#     common_ratio=0\n",
    "#     data = pd.read_csv(dataCSV[index])\n",
    "#     data = np.array(data)\n",
    "\n",
    "#     if (common_ratio > 0):\n",
    "#         path = 'image/' + fileName[index][1:] + \" smooth by \" +str(common_ratio)\n",
    "#     else:\n",
    "#         path = 'image/' + fileName[index][1:]\n",
    "#     mkdir(path)\n",
    "#     draw(data,index)\n",
    "#     # print(data[:,14])\n",
    "#     # diff(data[:,14])\n",
    "\n",
    "# print(data[0][0:23])\n",
    "\n",
    "result=[]\n",
    "# result_0=[]\n",
    "# result_1=[]\n",
    "# result_2=[]\n",
    "# result_3=[]\n",
    "# result_4=[]\n",
    "# result_5=[]\n",
    "for i in range(len(data[:,1])-1):\n",
    "        result.append([])\n",
    "\n",
    "for i in range(len(data[:,15])-2):\n",
    "    for j in range(1,23):\n",
    "        result[i].append(data[i][j])\n",
    "    result[i].append((data[i+1][1]-data[i][1])/ (data[i+1][15]-data[i][15]))\n",
    "    result[i].append((data[i+1][2]-data[i][2])/ (data[i+1][15]-data[i][15]))\n",
    "    result[i].append((data[i+1][3]-data[i][3])/ (data[i+1][15]-data[i][15]))\n",
    "    result[i].append((data[i+1][7]-data[i][7])/ (data[i+1][15]-data[i][15]))\n",
    "    result[i].append((data[i+1][8]-data[i][8])/ (data[i+1][15]-data[i][15]))\n",
    "    result[i].append((data[i+1][9]-data[i][9])/ (data[i+1][15]-data[i][15]))\n",
    "    \n",
    "\n",
    "\n",
    "print(result[0][0])\n",
    "print(result[1][0])\n",
    "\n",
    "# df = pd.DataFrame(result)\n",
    "# df.to_csv('newAfterFft_fft_arctan_40_Foot - 複製.csv')\n",
    "\n",
    "\n",
    "\n",
    "\n",
    "# drawfft(data,index)\n",
    "\n",
    "\n"
   ]
  },
  {
   "cell_type": "code",
   "execution_count": null,
   "metadata": {},
   "outputs": [],
   "source": []
  },
  {
   "cell_type": "code",
   "execution_count": null,
   "metadata": {},
   "outputs": [],
   "source": []
  }
 ],
 "metadata": {
  "interpreter": {
   "hash": "a9b4500a64cdd468ae277a4a17aeb127f09536bb33390348045dff059b4b55d4"
  },
  "kernelspec": {
   "display_name": "Python 3.9.7 ('base')",
   "language": "python",
   "name": "python3"
  },
  "language_info": {
   "codemirror_mode": {
    "name": "ipython",
    "version": 3
   },
   "file_extension": ".py",
   "mimetype": "text/x-python",
   "name": "python",
   "nbconvert_exporter": "python",
   "pygments_lexer": "ipython3",
   "version": "3.9.7"
  }
 },
 "nbformat": 4,
 "nbformat_minor": 2
}
